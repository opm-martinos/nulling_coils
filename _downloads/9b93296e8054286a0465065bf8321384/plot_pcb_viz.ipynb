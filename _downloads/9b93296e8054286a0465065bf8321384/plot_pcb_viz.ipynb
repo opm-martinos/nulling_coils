{
  "cells": [
    {
      "cell_type": "markdown",
      "metadata": {},
      "source": [
        "\n# 05. Compute and visualize magnetic field from PCB\n\nExample demonstrating how to load the PCB from HDF5 files\nwhich includes the connection information between wire segments\nand how to visualize the field due to them.\n"
      ]
    },
    {
      "cell_type": "code",
      "execution_count": null,
      "metadata": {
        "collapsed": false
      },
      "outputs": [],
      "source": [
        "# Authors: Mainak Jas <mjas@mgh.harvard.edu>\n#          Gabriel Motta <gabrielbenmotta@gmail.com>\n\n# sphinx_gallery_thumbnail_number = 7\n\nfrom pathlib import Path\nimport h5io\n\nfrom opmcoils.panels import PCBPanel, plot_panel"
      ]
    },
    {
      "cell_type": "markdown",
      "metadata": {},
      "source": [
        "Let us first load the nulling coils\n\n"
      ]
    },
    {
      "cell_type": "code",
      "execution_count": null,
      "metadata": {
        "collapsed": false
      },
      "outputs": [],
      "source": [
        "hardware_folder = Path.cwd().parent / 'hardware' / 'hdf5'\n\npanels = dict()\npanels_data = h5io.read_hdf5(hardware_folder / 'panels.hdf5')\nfor key, pan in panels_data.items():\n    panels[key] = PCBPanel(panel_dict=pan)"
      ]
    },
    {
      "cell_type": "markdown",
      "metadata": {},
      "source": [
        "Now we can plot each of the coils\n\n"
      ]
    },
    {
      "cell_type": "code",
      "execution_count": null,
      "metadata": {
        "collapsed": false
      },
      "outputs": [],
      "source": [
        "current = dict(left=1e-3, right=1e-3)\nfor panel_name in panels:\n    if 'G' in panel_name:\n        current['right'] = 1e-3\n    else:\n        current['right'] = -1e-3\n\n    axis = panel_name.strip('B').strip('G')\n    if axis == 'z':\n        current['right'] *= -1.\n\n    print(f'Length and resistance of the panel {panel_name} is'\n          f' {panels[panel_name].length:.2f} m and '\n          f'{panels[panel_name].resistance():.2f} Ohm')\n    plot_panel(panels[panel_name], .7, 32, current=current, axis=axis,\n               title=f'{panel_name} Panels')"
      ]
    },
    {
      "cell_type": "markdown",
      "metadata": {},
      "source": [
        "We can also compute the combined field due to several nulling coils\n\n"
      ]
    },
    {
      "cell_type": "code",
      "execution_count": null,
      "metadata": {
        "collapsed": false
      },
      "outputs": [],
      "source": [
        "from opmcoils import get_sphere_points\nfrom opmcoils.panels import combined_panel_field\n\ntarget_points, _ = get_sphere_points([0, 0, 0], n=8, sidelength=0.5)\npanels = [panels['By'], panels['Bx'], panels['Bz']]\ncurrents = [dict(left=1e-3, right=-1e-3),\n            dict(left=-1e-3, right=1e-3),\n            dict(left=.2e-3, right=.2e-3)]\nfield = combined_panel_field(panels, currents, target_points)\nprint(field)"
      ]
    },
    {
      "cell_type": "markdown",
      "metadata": {},
      "source": [
        "Finally, we can plot the combined panels and their resulting field\n\n"
      ]
    },
    {
      "cell_type": "code",
      "execution_count": null,
      "metadata": {
        "collapsed": false
      },
      "outputs": [],
      "source": [
        "from opmcoils.panels import plot_combined_panels\n\nplot_combined_panels(panels, currents, target_points)"
      ]
    }
  ],
  "metadata": {
    "kernelspec": {
      "display_name": "Python 3",
      "language": "python",
      "name": "python3"
    },
    "language_info": {
      "codemirror_mode": {
        "name": "ipython",
        "version": 3
      },
      "file_extension": ".py",
      "mimetype": "text/x-python",
      "name": "python",
      "nbconvert_exporter": "python",
      "pygments_lexer": "ipython3",
      "version": "3.9.18"
    }
  },
  "nbformat": 4,
  "nbformat_minor": 0
}