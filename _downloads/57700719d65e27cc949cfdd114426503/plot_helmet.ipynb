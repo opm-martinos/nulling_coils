{
  "cells": [
    {
      "cell_type": "markdown",
      "metadata": {},
      "source": [
        "\n# 03. Helmet field mapping\n\nExample demonstrating how to map the background\nfield on the helmet.\n"
      ]
    },
    {
      "cell_type": "code",
      "execution_count": null,
      "metadata": {
        "collapsed": false
      },
      "outputs": [],
      "source": [
        "# Authors: Mainak Jas <mjas@mgh.harvard.edu>\n#          Padma Sundaram <padma@nmr.mgh.harvard.edu>\n\nimport json\nfrom pathlib import Path\n\nimport matplotlib.pyplot as plt\nimport numpy as np\n\nimport mne\nimport pyvista as pv\nimport pyvistaqt as pvqt\n\nfrom opmcoils.analysis import get_good_chs, load_remnant_fields"
      ]
    },
    {
      "cell_type": "markdown",
      "metadata": {},
      "source": [
        "Filenames for the mapping\n\n"
      ]
    },
    {
      "cell_type": "code",
      "execution_count": null,
      "metadata": {
        "collapsed": false
      },
      "outputs": [],
      "source": [
        "project_dir = Path.cwd() / 'data'\ninfo_fname = project_dir / 'helmet_99channel_size-60.fif'\nfnames = [project_dir / 'Bxyz_0mA.txt',\n          project_dir / 'Bxyz_optimized.txt']\nmapping_fname = 'mapping.json'\nsurf_fname = 'helmet100_rhino_cuts.stl'\n\npv.global_theme.cmap = 'bwr'\n\ninfo = mne.io.read_info(info_fname)"
      ]
    },
    {
      "cell_type": "markdown",
      "metadata": {},
      "source": [
        "We have measured the bias for each sensor along its sensitive\naxis. This is provided as a dictionary\n\n"
      ]
    },
    {
      "cell_type": "code",
      "execution_count": null,
      "metadata": {
        "collapsed": false
      },
      "outputs": [],
      "source": [
        "bias = {'00:01': -0.06, '00:03': -0.74, '00:04': 0.51, '00:08': -0.43,\n        '00:11': 0.11, '00:14': -0.13, '00:07': -0.42, '00:15': 1.23,\n        '00:16': 0.07, '01:01': 0.42, '01:03': 0.19, '01:04': 0.02,\n        '01:06': 0.22, '01:08': -0.33, '01:09': 0.30,\n        '01:10': -0.12, '01:13': -1.95, '01:14': 0.65, '01:15': 0.27,\n        '01:16': 0.62}"
      ]
    },
    {
      "cell_type": "markdown",
      "metadata": {},
      "source": [
        "We load the data and correct for the bias\n\n"
      ]
    },
    {
      "cell_type": "code",
      "execution_count": null,
      "metadata": {
        "collapsed": false
      },
      "outputs": [],
      "source": [
        "data = dict()\nlabels = ['Before', 'After']\ngood_chs = get_good_chs(fnames)\nfor fname, label in zip(fnames, labels):\n    data[label] = load_remnant_fields(fname, good_chs, bias=bias)\n\nprint(f'Max remnant field: {np.abs(data[\"After\"]).max()} nT')"
      ]
    },
    {
      "cell_type": "markdown",
      "metadata": {},
      "source": [
        "Finally, we plot the field before and after\n\n"
      ]
    },
    {
      "cell_type": "code",
      "execution_count": null,
      "metadata": {
        "collapsed": false
      },
      "outputs": [],
      "source": [
        "with open(project_dir / mapping_fname, 'r') as fp:\n    mapping = json.load(fp)\n\nplotters = pv.Plotter(shape=(1, 2), window_size=(700, 450),\n                      border_color='w')\n\nfor plot_idx, label in enumerate(labels):\n    plotters.subplot(0, plot_idx)\n    locs = list()\n    Bz = list()\n    for ch in good_chs:\n        holder = mapping[ch]\n        holder_idx = info['ch_names'].index(f'A{holder}')\n        chs = info['chs'][holder_idx]\n        ch_loc = chs['loc'][:3] - 5 * chs['loc'][9:12]\n        locs.append(ch_loc)\n    locs = np.array(locs)\n\n    reader = pv.get_reader(project_dir / surf_fname)\n    mesh = reader.read()\n    plotters.add_mesh(mesh, opacity=1.)\n\n    pdata = pv.PolyData(locs)\n    pdata['values'] = data[label]\n    plotters.add_mesh(pdata, scalars=\"values\", point_size=15.0,\n                      render_points_as_spheres=True, show_scalar_bar=False,\n                      clim=(-20, 20))\n    _ = plotters.add_scalar_bar('', interactive=False, vertical=False,\n                                title_font_size=10, label_font_size=14,\n                                fmt='%10.1f', position_x=0.15, position_y=0.85,\n                                width=0.6)\n    plotters.add_text(label, font_size=8, position='lower_right')\nplotters.link_views()\nplotters.show()"
      ]
    }
  ],
  "metadata": {
    "kernelspec": {
      "display_name": "Python 3",
      "language": "python",
      "name": "python3"
    },
    "language_info": {
      "codemirror_mode": {
        "name": "ipython",
        "version": 3
      },
      "file_extension": ".py",
      "mimetype": "text/x-python",
      "name": "python",
      "nbconvert_exporter": "python",
      "pygments_lexer": "ipython3",
      "version": "3.9.18"
    }
  },
  "nbformat": 4,
  "nbformat_minor": 0
}