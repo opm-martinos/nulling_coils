{
  "cells": [
    {
      "cell_type": "markdown",
      "metadata": {},
      "source": [
        "\n# 02. Planar field mapping\n\nExample demonstrating how to map the background\nfield along a plane.\n"
      ]
    },
    {
      "cell_type": "code",
      "execution_count": null,
      "metadata": {
        "collapsed": false
      },
      "outputs": [],
      "source": [
        "# Authors: Mainak Jas <mjas@mgh.harvard.edu>\n#          Padma Sundaram <padma@nmr.mgh.harvard.edu>\n\nfrom pathlib import Path\nimport numpy as np\n\nimport matplotlib.pyplot as plt\nfrom matplotlib.ticker import FormatStrFormatter\nfrom mpl_toolkits.axes_grid1 import make_axes_locatable\n\nfrom scipy.interpolate import griddata\n\nfrom opmcoils.analysis import load_remnant_fields"
      ]
    },
    {
      "cell_type": "markdown",
      "metadata": {},
      "source": [
        "First, we define the coordinates of the sensors from the 3D model\nof the sensor holders.\n\n"
      ]
    },
    {
      "cell_type": "code",
      "execution_count": null,
      "metadata": {
        "collapsed": false
      },
      "outputs": [],
      "source": [
        "def get_coords(component):\n    if component == 'y':\n\n        x = [0, 5, 10, 15, 20,\n             0, 5, 10, 15, 20,\n                5, 10, 15, 20,\n             0, 5, 10, 15, 20]\n\n        z = [15, 15, 15, 15, 15,\n             10, 10, 10, 10, 10,\n                 5, 5, 5, 5,\n             0, 0, 0, 0, 0]\n\n        x = np.array(x) - 10\n        z = np.array(z) - 7.5\n\n        txt_fname = 'fine_zero_y.txt'\n\n    if component == 'z':\n        z = [17.5, 15, 17.5, 15, 17.5,\n             12.5, 10, 12.5, 10, 12.5,\n                   5, 7.5, 5, 7.5,\n             2.5, 0, 2.5, 0, 2.5]\n\n        x = [0, 5, 10, 15, 20,\n             0, 5, 10, 15, 20,\n                5, 10, 15, 20,\n             0, 5, 10, 15, 20]\n\n        x = np.array(x) - 9.5\n        z = np.array(z) - 8.2\n\n        txt_fname = 'fine_zero_z.txt'\n\n    elif component == 'x':\n\n        x = [2.5, 7.5, 12.5, 17.5, 22.5,\n             0, 5, 10, 15, 20,\n                7.5, 12.5, 17.5, 22.5,\n             0, 5, 10, 15, 20]\n\n        z = [15, 15, 15, 15, 15,\n             10, 10, 10, 10, 10,\n                 5, 5, 5, 5,\n             0, 0, 0, 0, 0]\n\n        x = np.array(x) - 11.4\n        z = np.array(z) - 9.5\n\n        txt_fname = 'fine_zero_x.txt'\n\n    return x, z, txt_fname"
      ]
    },
    {
      "cell_type": "markdown",
      "metadata": {},
      "source": [
        "The bias for each sensor is predefined in a dictionary.\n\n"
      ]
    },
    {
      "cell_type": "code",
      "execution_count": null,
      "metadata": {
        "collapsed": false
      },
      "outputs": [],
      "source": [
        "folder = Path.cwd() / 'data'\n\nbias = {'00:01': -0.06, '00:03': -0.74, '00:04': 0.51, '00:08': -0.43,\n        '00:11': 0.11, '00:14': -0.13, '00:07': -0.42, '00:15': 1.23,\n        '00:16': 0.07, '01:01': 0.42, '01:03': 0.19, '01:04': 0.02,\n        '01:06': 0.22, '01:08': -0.33, '01:09': 0.30,\n        '01:10': -0.12, '01:13': -1.95, '01:14': 0.65, '01:15': 0.27,\n        '01:16': 0.62}\n\nch_names = ['01:16', '01:13', '00:04', '01:01', '01:08',\n            '01:10', '01:09', '01:03', '00:16', '01:04',\n                     '00:08', '00:15', '00:03', '00:11',\n            '01:15', '00:01', '01:06', '00:14', '01:14']"
      ]
    },
    {
      "cell_type": "markdown",
      "metadata": {},
      "source": [
        "Finally, we plot the field along the x-z plane.\n\n"
      ]
    },
    {
      "cell_type": "code",
      "execution_count": null,
      "metadata": {
        "collapsed": false
      },
      "outputs": [],
      "source": [
        "fig, axes = plt.subplots(1, 3, figsize=(12, 4), sharex=True, sharey=True)\nfor ax, component in zip(axes, ['x', 'y', 'z']):\n    x, z, txt_fname = get_coords(component)\n    B = load_remnant_fields(f'{folder}/{txt_fname}',\n                            ch_names=ch_names, bias=bias)\n\n    xi = np.linspace(np.min(x), np.max(x), 20)\n    zi = np.linspace(np.min(z), np.max(z), 20)\n    Xi, Zi = np.meshgrid(xi, zi)\n\n    Bi = griddata((x, z), B, (Xi, Zi), method='cubic')\n\n    vmin, vmax = -2, 2\n\n    im = ax.pcolormesh(Xi, Zi, Bi, vmin=vmin, vmax=vmax, cmap='RdBu')\n\n    if component == 'z':\n        divider = make_axes_locatable(ax)\n        cax = divider.append_axes('right', size='5%', pad=0.1)\n        cbar = fig.colorbar(im, cax=cax)\n\n    ax.scatter(x, z, c=B, vmin=vmin, vmax=vmax,\n               edgecolors='k', cmap='RdBu')\n    ax.plot(0, 0, 'rx')\n\n    ax.xaxis.set_major_formatter(FormatStrFormatter('%d'))\n    ax.yaxis.set_major_formatter(FormatStrFormatter('%d'))\n    ax.spines['right'].set_visible(False)\n    ax.spines['top'].set_visible(False)\n\n    ax.set_yticks(np.linspace(-10, 10, 5))\n    if component != 'x':\n        ax.spines['left'].set_visible(False)\n        ax.tick_params(axis='y', which='both', left=False)\n\n    ax.set_xticks(np.linspace(-10, 10, 5))\n    ax.set_xlabel('z (cm)')\n    ax.set_title(f'$B_{component}$ coil on')\n\naxes[0].set_ylabel('x (cm)')\nplt.tight_layout()\nplt.show()"
      ]
    }
  ],
  "metadata": {
    "kernelspec": {
      "display_name": "Python 3",
      "language": "python",
      "name": "python3"
    },
    "language_info": {
      "codemirror_mode": {
        "name": "ipython",
        "version": 3
      },
      "file_extension": ".py",
      "mimetype": "text/x-python",
      "name": "python",
      "nbconvert_exporter": "python",
      "pygments_lexer": "ipython3",
      "version": "3.9.18"
    }
  },
  "nbformat": 4,
  "nbformat_minor": 0
}