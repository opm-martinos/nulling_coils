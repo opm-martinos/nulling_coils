{
  "cells": [
    {
      "cell_type": "markdown",
      "metadata": {},
      "source": [
        "\n# 04. Loading PCB files\n\nHere, we will demonstrate how to load PCB files and\nsave them to HDF5 format after inferring the connections\nbetween the wire segments.\n"
      ]
    },
    {
      "cell_type": "code",
      "execution_count": null,
      "metadata": {
        "collapsed": false
      },
      "outputs": [],
      "source": [
        "# Authors: Mainak Jas <mjas@mgh.harvard.edu>\n#          Gabriel Motta <gabrielbenmotta@gmail.com>"
      ]
    },
    {
      "cell_type": "markdown",
      "metadata": {},
      "source": [
        "First, we will import the necessary libraries\n\n"
      ]
    },
    {
      "cell_type": "code",
      "execution_count": null,
      "metadata": {
        "collapsed": false
      },
      "outputs": [],
      "source": [
        "from pathlib import Path\nimport h5io\n\nfrom opmcoils.panels import load_panel, plot_panel"
      ]
    },
    {
      "cell_type": "markdown",
      "metadata": {},
      "source": [
        "Then, we define the necessary folders\n\n"
      ]
    },
    {
      "cell_type": "code",
      "execution_count": null,
      "metadata": {
        "collapsed": false
      },
      "outputs": [],
      "source": [
        "hardware_folder = Path.cwd().parent / 'hardware'\npcb_folder = hardware_folder / 'By_coil'\npanels = dict()\ncurrent = dict(left=1e-3, right=-1e-3)"
      ]
    },
    {
      "cell_type": "markdown",
      "metadata": {},
      "source": [
        "To load a file, we simply do\n\n"
      ]
    },
    {
      "cell_type": "code",
      "execution_count": null,
      "metadata": {
        "collapsed": false
      },
      "outputs": [],
      "source": [
        "panel = load_panel(pcb_folder, flip=['left_bott', 'right_bott'])"
      ]
    },
    {
      "cell_type": "markdown",
      "metadata": {},
      "source": [
        "This may take a while ... it is because KiCAD does not store\nthe order of individual segments of copper wire. We have to connect\nthe segments together based on their positions.\n\n"
      ]
    },
    {
      "cell_type": "code",
      "execution_count": null,
      "metadata": {
        "collapsed": false
      },
      "outputs": [],
      "source": [
        "panels['By'] = panel"
      ]
    },
    {
      "cell_type": "markdown",
      "metadata": {},
      "source": [
        "We can repeat this process for Bx coil\nIn this case, we have to flip the direction of the connected segments\nin two PCBs in order to obtain the correct orientation.\n\n"
      ]
    },
    {
      "cell_type": "code",
      "execution_count": null,
      "metadata": {
        "collapsed": false
      },
      "outputs": [],
      "source": [
        "pcb_folder = hardware_folder / 'Bx_coil'\npanel = load_panel(pcb_folder, standoff=1.416,\n                   flip=['left_second', 'right_second'])\n\n#\n# We can verify that the panel was loaded correctly by plotting the field\n# due to it. This function plots a 2d colormap of the field along the\n# x-z plane, a line profile along the z axis, and an arrow field map.\nplot_panel(panel, .7, 32, current=current, axis='x', title='Bx Panels')\npanels['Bx'] = panel"
      ]
    },
    {
      "cell_type": "markdown",
      "metadata": {},
      "source": [
        "For Bz coil, we have to manually correct the direction of\nthe connected segment at each solder joint.\n\n"
      ]
    },
    {
      "cell_type": "code",
      "execution_count": null,
      "metadata": {
        "collapsed": false
      },
      "outputs": [],
      "source": [
        "pcb_folder = hardware_folder / 'Bz_coil'\nflip = dict(left_first=[3, 1, 4, 6, 0, 5, 25, 12, 17, 20],\n            left_second=[20, 5, 13, 30, 29, 2, 14, 6, 15, 9, 4, 23, 21, 18])\nflip['right_first'] = flip['left_first']\nflip['right_second'] = flip['left_second']\npanel = load_panel(pcb_folder, standoff=1.432, flip=flip)\npanels['Bz'] = panel"
      ]
    },
    {
      "cell_type": "markdown",
      "metadata": {},
      "source": [
        "We repeat this process for the Gy coil\n\n"
      ]
    },
    {
      "cell_type": "code",
      "execution_count": null,
      "metadata": {
        "collapsed": false
      },
      "outputs": [],
      "source": [
        "pcb_folder = hardware_folder / 'Gy_coil'\ncurrent = dict(left=1e-3, right=1e-3)\n\npanel = load_panel(pcb_folder, standoff=1.408, rearrange=True,\n                   flip=['left_second', 'right_second'])\npanels['Gy'] = panel"
      ]
    },
    {
      "cell_type": "markdown",
      "metadata": {},
      "source": [
        "The Gx coil\n\n"
      ]
    },
    {
      "cell_type": "code",
      "execution_count": null,
      "metadata": {
        "collapsed": false
      },
      "outputs": [],
      "source": [
        "pcb_folder = hardware_folder / 'Gx_coil'\npanel = load_panel(pcb_folder, standoff=1.424)\npanels['Gx'] = panel"
      ]
    },
    {
      "cell_type": "markdown",
      "metadata": {},
      "source": [
        "and the Gz coil.\n\n"
      ]
    },
    {
      "cell_type": "code",
      "execution_count": null,
      "metadata": {
        "collapsed": false
      },
      "outputs": [],
      "source": [
        "pcb_folder = hardware_folder / 'Gz_coil'\ncurrent = dict(left=1e-3, right=-1e-3)\nflip = dict(left_first=[9, 11, 13, 12, 15, 2, 16, 5],\n            left_second=[5, 3, 10, 15, 7, 6, 0, 11, 17])\nflip['right_first'] = flip['left_first']\nflip['right_second'] = flip['left_second']\npanel = load_panel(pcb_folder, standoff=1.440,\n                   flip=flip)\npanels['Gz'] = panel"
      ]
    },
    {
      "cell_type": "markdown",
      "metadata": {},
      "source": [
        "Finally, we can save these files to HDF5 to avoid\nrecomputing the inference of segment order.\n\n"
      ]
    },
    {
      "cell_type": "code",
      "execution_count": null,
      "metadata": {
        "collapsed": false
      },
      "outputs": [],
      "source": [
        "panels_dict = dict()\nfor key, panel in panels.items():\n    panels_dict[key] = panel.to_dict()\n\nh5io.write_hdf5('panels.hdf5', panels_dict, overwrite=True)"
      ]
    }
  ],
  "metadata": {
    "kernelspec": {
      "display_name": "Python 3",
      "language": "python",
      "name": "python3"
    },
    "language_info": {
      "codemirror_mode": {
        "name": "ipython",
        "version": 3
      },
      "file_extension": ".py",
      "mimetype": "text/x-python",
      "name": "python",
      "nbconvert_exporter": "python",
      "pygments_lexer": "ipython3",
      "version": "3.9.18"
    }
  },
  "nbformat": 4,
  "nbformat_minor": 0
}