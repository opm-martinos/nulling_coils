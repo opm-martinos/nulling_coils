{
  "cells": [
    {
      "cell_type": "markdown",
      "metadata": {},
      "source": [
        "\nExample demonstrating how to load Kicad PCBs and evaluate their performance.\n"
      ]
    },
    {
      "cell_type": "code",
      "execution_count": null,
      "metadata": {
        "collapsed": false
      },
      "outputs": [],
      "source": [
        "# Authors: Mainak Jas <mjas@mgh.harvard.edu>\n#          Padma Sundaram <padma@nmr.mgh.harvard.edu>\nimport os\nimport sys\nimport numpy as np\nimport argparse\n\nfrom opm_coils import get_sphere_points, PCBPanel\nfrom opm_coils.panels import flip_chain\n\n\ndef check_half_names(pcb_folder):\n    halves = ['top', 'bott', 'first', 'second']\n    use_names = list()\n\n    for half in halves:\n        if os.path.isdir(os.path.join(pcb_folder, half)):\n            use_names.append(half)\n    return use_names\n\ndef get_boards():\n    script_dir = os.path.dirname(os.path.abspath(sys.argv[0]))\n\n    prod_path = os.path.join(script_dir, \"../production/\")\n    develop_path = os.path.join(script_dir, \"../development/\")\n\n    subfolders = [f.path for f in os.scandir(prod_path) if f.is_dir()]\n    subfolders += [f.path for f in os.scandir(develop_path) if f.is_dir()]\n\n    for i, s in enumerate(subfolders):\n        print(f'{i:2} - {s.split(\"../\")[1]}')\n\n    selection = input(\"Select a PCB: \")\n    selection = int(selection)\n\n    if selection < 0 or selection >= len(subfolders):\n        return \"\", list()\n\n    pcb_folder = subfolders[selection]\n\n    use_names = check_half_names(pcb_folder)\n\n    print(f'Loading from {pcb_folder}')\n    print(f'Found {use_names}')\n\n    return pcb_folder, use_names\n\n\nif __name__ == \"__main__\":\n    parser = argparse.ArgumentParser()\n    parser.add_argument('pcb_path', nargs='*',\n                        help='Path to pcb project files.')\n    parser.add_argument('-i', '--interactive', action='store_true',\n                        help='Toggle interactive mode. On by default when no'\n                        'pcb path provided.')\n    parser.add_argument('-r', '--rearrange', action='store_true',\n                        help='Treat first/second as top/bottom')\n\n    args = parser.parse_args()\n\n    pcb_folder = ''\n    interactive = False\n    if args.interactive or len(args.pcb_path) == 0:\n        interactive = True\n\n    standoff = 1.4\n    current = dict(left=1e-3, right=1e-3)\n\n    if interactive:\n        pcb_folder, half_names = get_boards()\n    elif os.path.exists(args.pcb_path[0]):\n        half_names = check_half_names(args.pcb_path[0])\n        if half_names:\n            pcb_folder = args.pcb_path[0]\n\n    rearrange = False\n    if interactive and 'first' in half_names:\n        print(\"Treat 'first' and 'second' as 'top' and 'bott'? (y/n)\", end='')\n        rearrange = input()\n        rearrange = True if rearrange in ['y', 'Y'] else False\n    if not interactive and args.rearrange:\n        rearrange = True\n\n    if not pcb_folder:\n        sys.exit(1)\n\n    print()\n\n    center = np.array([0, 0, 0])\n    # target_points, points_z = get_sphere_points(center, n=8, sidelength=0.5)\n    target_points, points_z = get_between_points(center, n=16, sidelength=1)\n\n    # x and z coordinates must be swapped from\n    # Brookes to \"world\" coordinate frame\n    target_points[:, [0, 2]] = target_points[:, [2, 0]]\n    panel = PCBPanel(pcb_folder, half_names=half_names,\n                     standoff=standoff, rearrange=rearrange)\n    # field = panel.magnetic_field(target_points, current=current)\n\n    pcb_plot = panel.plot(target_points, current)\n\n    if interactive:\n        print('Flip coils?')\n        options = [key for key in panel.chains.keys()]\n        for i, key in enumerate(options):\n            print(f'{i:2} - {key}')\n        flip = input('csv of which chains to flip, leave empty to flip none: ')\n        flip = [int(c.strip()) for c in flip.split(',') if c]\n\n        for num in flip:\n            if num > -1 and num < len(options):\n                flip_chain(panel.chains[options[num]])\n            else:\n                print(f'Invalid index {num}. Skipping.')\n        if len(flip) > 0:\n            pcb_plot = panel.plot(target_points, current)\n\n    # Let's do a line profile\n    panel.plot_profile(current, profile_dir='z', field_component='y')"
      ]
    }
  ],
  "metadata": {
    "kernelspec": {
      "display_name": "Python 3",
      "language": "python",
      "name": "python3"
    },
    "language_info": {
      "codemirror_mode": {
        "name": "ipython",
        "version": 3
      },
      "file_extension": ".py",
      "mimetype": "text/x-python",
      "name": "python",
      "nbconvert_exporter": "python",
      "pygments_lexer": "ipython3",
      "version": "3.9.18"
    }
  },
  "nbformat": 4,
  "nbformat_minor": 0
}