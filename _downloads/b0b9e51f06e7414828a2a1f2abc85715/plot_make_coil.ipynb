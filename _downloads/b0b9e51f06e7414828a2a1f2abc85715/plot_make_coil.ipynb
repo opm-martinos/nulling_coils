{
  "cells": [
    {
      "cell_type": "markdown",
      "metadata": {},
      "source": [
        "\n# 01. Design biplanar coils\n\nExample demonstrating how to create biplanar coils for production.\n"
      ]
    },
    {
      "cell_type": "code",
      "execution_count": null,
      "metadata": {
        "collapsed": false
      },
      "outputs": [],
      "source": [
        "# Authors: Mainak Jas <mjas@mgh.harvard.edu>\n#          Padma Sundaram <padma@nmr.mgh.harvard.edu>\n\n# First, we will import the necessary libraries\nfrom pathlib import Path\n\nimport numpy as np\nimport matplotlib.pyplot as plt\n\nfrom bfieldtools.utils import load_example_mesh\n\nimport opmcoils\nfrom opmcoils import BiplanarCoil, get_sphere_points, get_target_field\nfrom opmcoils.shielding import shielded_room\n\nN_suh = 50\nN_contours = 30  # Use N_contours = 30 for gradient_z\nsave = False\n\ncenter = np.array([0, 0, 0])\ntarget_type = 'dc_y'  # 'gradient_x' | 'gradient_y' | 'dc_x' | 'dc_y'"
      ]
    },
    {
      "cell_type": "markdown",
      "metadata": {},
      "source": [
        "Next we define the output directory containing the kicad files for our\nPCB design.\n\n"
      ]
    },
    {
      "cell_type": "code",
      "execution_count": null,
      "metadata": {
        "collapsed": false
      },
      "outputs": [],
      "source": [
        "pcb_dir = Path(opmcoils.__path__[0]).parents[0]\n\noutput_dir = {'dc_x': 'Bx_coil',\n              'dc_y': 'By_coil_dev',\n              'dc_z': 'Bz_coil',\n              'gradient_x': 'Gx_coil',\n              'gradient_y': 'Gy_coil',\n              'gradient_z': 'Gz_coil'}\nheader_type = {'dc_x': 'vert',\n               'dc_y': 'horz',\n               'dc_z': 'vert',\n               'gradient_x': 'vert',\n               'gradient_y': 'horz',\n               'gradient_z': 'vert'}\nbounds_wholeloop = {'dc_x': False,\n                    'dc_y': True,\n                    'dc_z': False, \n                    'gradient_x': False,\n                    'gradient_y': True,\n                    'gradient_z': False}"
      ]
    },
    {
      "cell_type": "markdown",
      "metadata": {},
      "source": [
        "Next we will define the parameters of our coils\n\n"
      ]
    },
    {
      "cell_type": "code",
      "execution_count": null,
      "metadata": {
        "collapsed": false
      },
      "outputs": [],
      "source": [
        "standoffs = {\"dc_y\": 0.1400, \"gradient_y\": 0.1408,\n             \"dc_x\": 0.1416, \"gradient_x\": 0.1424, \n             \"dc_z\": 0.1432, \"gradient_z\": 0.1440}\n\nscaling = {\"dc_y\": 0.1400, \"gradient_y\": 0.1420,\n           \"dc_x\": 0.1420, \"gradient_x\": 0.1436, \n           \"dc_z\": 0.1441, \"gradient_z\": 0.14565}\n\ntrace_width = 5.  # mm\ncu_oz = 2.  # oz per ft^2"
      ]
    },
    {
      "cell_type": "markdown",
      "metadata": {},
      "source": [
        "A 10 m x 10 m biplanar coil mesh is loaded from bfieldtools.\nWe will scale the mesh so as to achieve the dimensions of\n1.4 m x 1.4 m that we will use in our work.\n\n"
      ]
    },
    {
      "cell_type": "code",
      "execution_count": null,
      "metadata": {
        "collapsed": false
      },
      "outputs": [],
      "source": [
        "scaling_factor = scaling[target_type]\nstandoff = scaling_factor * 10\n\nplanemesh = load_example_mesh(\"10x10_plane_hires\")\nplanemesh.apply_scale(scaling_factor)"
      ]
    },
    {
      "cell_type": "markdown",
      "metadata": {},
      "source": [
        "The BiplanarCoil class is instantiated\n\n"
      ]
    },
    {
      "cell_type": "code",
      "execution_count": null,
      "metadata": {
        "collapsed": false
      },
      "outputs": [],
      "source": [
        "coil = BiplanarCoil(planemesh, center, N_suh=N_suh, standoff=standoff)"
      ]
    },
    {
      "cell_type": "markdown",
      "metadata": {},
      "source": [
        "Then the target points and the fields are used to fit the coil design\n\n"
      ]
    },
    {
      "cell_type": "code",
      "execution_count": null,
      "metadata": {
        "collapsed": false
      },
      "outputs": [],
      "source": [
        "target_points, points_z = get_sphere_points(center, n=8, sidelength=0.5)\ntarget_field = get_target_field(target_type, target_points)\n\ncoil.fit(target_points, target_field)"
      ]
    },
    {
      "cell_type": "markdown",
      "metadata": {},
      "source": [
        "Then, we can discretize the coil into current loops. At this point,\nwe can also specify the trace width and the copper thickness used\nin the PCB design.\n\n"
      ]
    },
    {
      "cell_type": "code",
      "execution_count": null,
      "metadata": {
        "collapsed": false
      },
      "outputs": [],
      "source": [
        "coil.discretize(N_contours=N_contours, trace_width=trace_width, cu_oz=cu_oz)"
      ]
    },
    {
      "cell_type": "markdown",
      "metadata": {},
      "source": [
        "To evaluate the effect of the shielded room, we can add it to the coil\nspecification and it will be taken into account for estimating the\nmagnetic field at any point\n\n"
      ]
    },
    {
      "cell_type": "code",
      "execution_count": null,
      "metadata": {
        "collapsed": false
      },
      "outputs": [],
      "source": [
        "room_dims = (4, 2.3, 3.)\ncoil_pos = (1.89, 1.05, 1.6)\nshield_mesh = shielded_room(room_dims=room_dims,\n                            coil_pos=coil_pos)\ncoil.add_shield(shield_mesh)"
      ]
    },
    {
      "cell_type": "markdown",
      "metadata": {},
      "source": [
        "The field at some target points can be computed by doing\n\n"
      ]
    },
    {
      "cell_type": "code",
      "execution_count": null,
      "metadata": {
        "collapsed": false
      },
      "outputs": [],
      "source": [
        "B_target = coil.predict(target_points)"
      ]
    },
    {
      "cell_type": "markdown",
      "metadata": {},
      "source": [
        "The field can be computed and plotted by doing\n\n"
      ]
    },
    {
      "cell_type": "code",
      "execution_count": null,
      "metadata": {
        "collapsed": false
      },
      "outputs": [],
      "source": [
        "plotter = coil.plot_field(target_points)"
      ]
    },
    {
      "cell_type": "markdown",
      "metadata": {},
      "source": [
        "We can evaluate the coil for metrics such as efficiency\nand also compute its dimensions by doing\n\n"
      ]
    },
    {
      "cell_type": "code",
      "execution_count": null,
      "metadata": {
        "collapsed": false
      },
      "outputs": [],
      "source": [
        "metrics = coil.evaluate(target_type, target_points, target_field,\n                        points_z, 'all')\nprint(metrics)\nprint(f'The coil has dimensions {coil.shape} m')"
      ]
    },
    {
      "cell_type": "markdown",
      "metadata": {},
      "source": [
        "We can now interactively create paths to join the loops in the discretized coils\nby making \"cuts\". Uncomment below to use it.\ncoil.make_cuts()\n\n"
      ]
    },
    {
      "cell_type": "markdown",
      "metadata": {},
      "source": [
        "Finally, we can export the files to KiCad\n\n"
      ]
    },
    {
      "cell_type": "code",
      "execution_count": null,
      "metadata": {
        "collapsed": false
      },
      "outputs": [],
      "source": [
        "kicad_dir = Path.cwd().parent / 'hardware' / 'template' / 'headers'\npcb_dir = Path.cwd().parent / 'hardware'\nif header_type[target_type] == 'vert':\n    coil.save(\n        pcb_fname=pcb_dir / f'{output_dir[target_type]}/first/coil_template_first.kicad_pcb',\n        kicad_header_fname=kicad_dir / f'/kicad_header_{header_type[target_type]}_first_half.txt',\n        bounds=(0, 750, 0, 1500), origin=(0, 750),\n        bounds_wholeloop=bounds_wholeloop[target_type])\n\n    coil.save(\n        pcb_fname=pcb_dir / f'{output_dir[target_type]}/second/coil_template_second.kicad_pcb',\n        kicad_header_fname=kicad_dir / f'kicad_header_{header_type[target_type]}_second_half.txt',\n        bounds=(-750, 750, 0, 1500), origin=(750, 750),\n        bounds_wholeloop=bounds_wholeloop[target_type])\nelse:\n    coil.save(\n        pcb_fname=pcb_dir / f'{output_dir[target_type]}/first/coil_template_first.kicad_pcb',\n        kicad_header_fname=kicad_dir / f'kicad_header_{header_type[target_type]}_first_half.txt',\n        bounds=(-750, 750, 0, 750), origin=(750, 0))\n\n    coil.save(\n        pcb_fname=pcb_dir / f'{output_dir[target_type]}/second/coil_template_second.kicad_pcb',\n        kicad_header_fname=kicad_dir / f'kicad_header_{header_type[target_type]}_second_half.txt',\n        bounds=(-750, 750, -750, 0), origin=(750, 750))"
      ]
    }
  ],
  "metadata": {
    "kernelspec": {
      "display_name": "Python 3",
      "language": "python",
      "name": "python3"
    },
    "language_info": {
      "codemirror_mode": {
        "name": "ipython",
        "version": 3
      },
      "file_extension": ".py",
      "mimetype": "text/x-python",
      "name": "python",
      "nbconvert_exporter": "python",
      "pygments_lexer": "ipython3",
      "version": "3.9.18"
    }
  },
  "nbformat": 4,
  "nbformat_minor": 0
}