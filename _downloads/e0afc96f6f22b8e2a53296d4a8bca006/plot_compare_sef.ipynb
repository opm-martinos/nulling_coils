{
  "cells": [
    {
      "cell_type": "markdown",
      "metadata": {},
      "source": [
        "\n# 06. Analyze SEF Data with OPM\n\nThis example demonstrates how to analyze somatosensory evoked field (SEF) data\ncollected with optically pumped magnetometers (OPM) and compare it with\nsuperconducting quantum interference device (SQUID) data. The OPM data was\nobtained with the background field nulling coils we developed.\n"
      ]
    },
    {
      "cell_type": "code",
      "execution_count": null,
      "metadata": {
        "collapsed": false
      },
      "outputs": [],
      "source": [
        "# Author: Mainak Jas <mjas@mgh.harvard.edu>\n\nimport json\nimport matplotlib.pyplot as plt\n\nimport mne\nfrom opmcoils.analysis import find_events, add_ch_loc, read_opm_info\n\nfrom pathlib import Path\nimport pooch\n\n# sphinx_gallery_thumbnail_number = 3"
      ]
    },
    {
      "cell_type": "markdown",
      "metadata": {},
      "source": [
        "First, use pooch to download the data\n\n"
      ]
    },
    {
      "cell_type": "code",
      "execution_count": null,
      "metadata": {
        "collapsed": false
      },
      "outputs": [],
      "source": [
        "url = \"https://osf.io/aqh27/download\"\n\ntarget_dir = Path.cwd() / 'data'\nproject_dir = target_dir / 'sef_data'\n\npath = pooch.retrieve(\n    url=url,\n    known_hash=None,  # We don't know the hash\n    path=target_dir,\n    fname='sub-01.zip',  # Specify the filename\n    processor=pooch.Unzip(extract_dir=project_dir),  # Extract to a folder named 'sub-01'\n    progressbar=True\n)"
      ]
    },
    {
      "cell_type": "markdown",
      "metadata": {},
      "source": [
        "Then, we define the file paths\n\n"
      ]
    },
    {
      "cell_type": "code",
      "execution_count": null,
      "metadata": {
        "collapsed": false
      },
      "outputs": [],
      "source": [
        "subject = 'sub-01'\ndate = '20240722'\ncond = 'median'\n\nsubjects_dir = project_dir / subject\nraw_fname = subjects_dir / 'opm_meg' / date / f'{date}_{subject}_paneltesting_{cond}_raw.fif'\nraw_fname_squid = subjects_dir / 'squid_meg' / date / 'RT_median_raw.fif'\nhelmet_info_fname = target_dir / 'helmet_99channel_size-60.fif'\nch_mapping_fname = subjects_dir / 'opm_meg' / date / 'mapping.json'"
      ]
    },
    {
      "cell_type": "markdown",
      "metadata": {},
      "source": [
        "Then, we start by processing OPM data\n\n"
      ]
    },
    {
      "cell_type": "code",
      "execution_count": null,
      "metadata": {
        "collapsed": false
      },
      "outputs": [],
      "source": [
        "bads = ['01:15', '00:14', '00:15', '00:16']\n\nraw_opm = mne.io.read_raw_fif(raw_fname, preload=True)\nraw_opm.rename_channels(lambda x: x.strip('-BZ_CL'))\nraw_opm.info['bads'] = bads\n\nraw_opm.set_channel_types({'Input-1': 'stim'})"
      ]
    },
    {
      "cell_type": "markdown",
      "metadata": {},
      "source": [
        "Electrical median nerve stimulation creates artifacts. We\nwill annotate the artifacts to avoid filtering the sharp transients.\n\n"
      ]
    },
    {
      "cell_type": "code",
      "execution_count": null,
      "metadata": {
        "collapsed": false
      },
      "outputs": [],
      "source": [
        "events = find_events(raw_opm, min_duration=1. / raw_opm.info['sfreq'])\nannot = mne.annotations_from_events(events, raw_opm.info['sfreq'],\n                                    event_desc={1: 'BAD_STIM'})\n# XXX: annotations_from_events should have duration option\nannot.onset -= 0.002\nannot.duration += 0.003\n\nraw_opm.notch_filter(60.)\n\nraw_opm.set_annotations(annot)\nraw_opm.filter(4., None, skip_by_annotation=())\nraw_opm.filter(None, 150, skip_by_annotation=('BAD_STIM'))"
      ]
    },
    {
      "cell_type": "markdown",
      "metadata": {},
      "source": [
        "Then, we create evoked response\n\n"
      ]
    },
    {
      "cell_type": "code",
      "execution_count": null,
      "metadata": {
        "collapsed": false
      },
      "outputs": [],
      "source": [
        "reject = None # dict(mag=11e-12)\nepochs_opm = mne.Epochs(raw_opm, events, tmax=0.3,  # ISI = 300 ms\n                        reject_by_annotation=False,\n                        reject=reject, reject_tmin=0.03,\n                        preload=True)\nevoked_opm = epochs_opm.average()"
      ]
    },
    {
      "cell_type": "markdown",
      "metadata": {},
      "source": [
        "We add channel locations for the OPM sensors\nand plot the evoked response with spatial colors.\n\n"
      ]
    },
    {
      "cell_type": "code",
      "execution_count": null,
      "metadata": {
        "collapsed": false
      },
      "outputs": [],
      "source": [
        "info_helmet = read_opm_info(helmet_info_fname)\n\nwith open(ch_mapping_fname, 'r') as fd:\n    ch_mapping = json.load(fd)\n\nadd_ch_loc(evoked_opm, info_helmet, ch_mapping)\n\nevoked_opm.plot()"
      ]
    },
    {
      "cell_type": "markdown",
      "metadata": {},
      "source": [
        "Let us now process the SQUID data.\n\n"
      ]
    },
    {
      "cell_type": "code",
      "execution_count": null,
      "metadata": {
        "collapsed": false
      },
      "outputs": [],
      "source": [
        "raw_squid = mne.io.read_raw_fif(raw_fname_squid, raw_fname_squid, preload=True)\nraw_squid.pick_types(meg='mag', stim=True)\nevents = mne.find_events(raw_squid, min_duration=1. / raw_opm.info['sfreq'])\n\nannot = mne.annotations_from_events(events, raw_squid.info['sfreq'],\n                                    event_desc={1: 'BAD_STIM'})\n# XXX: annotations_from_events should have duration option\nannot.onset -= 0.002\nannot.duration += 0.003\nraw_squid.set_annotations(annot)\n\nraw_squid.filter(4., None)\nraw_squid.notch_filter(60.)\nraw_squid.filter(None, 150, skip_by_annotation=('BAD_STIM'))\nepochs = mne.Epochs(raw_squid, events, tmax=0.3,\n                    reject_by_annotation=False)\nevoked_squid = epochs.average()\nevoked_squid.plot(ylim=dict(mag=(-300, 300)))"
      ]
    },
    {
      "cell_type": "markdown",
      "metadata": {},
      "source": [
        "\"Butterfly plots\" are not appropriate to compare the\nevoked responses between OPMs and SQUID because the sensor\nlocations are not comparable and hide individual sensor time series.\n\nThat is why, we pick sensors in similar locations on the\nOPM-MEG and SQUID-MEG and compare the evoked responses.\n\n"
      ]
    },
    {
      "cell_type": "code",
      "execution_count": null,
      "metadata": {
        "collapsed": false
      },
      "outputs": [],
      "source": [
        "squid_chs = ['MEG0431', 'MEG0311']\nopm_chs = ['MEG30', 'MEG09']\nscale = 1e15\nfig, axes = plt.subplots(2, 1, sharex=True)\n\nfor i, (opm_ch, squid_ch) in enumerate(zip(opm_chs, squid_chs)):\n    ax = axes[i].twinx()\n    ln1 = axes[i].plot(evoked_opm.times * 1e3,\n                       evoked_opm.copy().pick([opm_ch]).data[0] * scale,\n                       '#e66101')\n    ln2 = ax.plot(evoked_squid.times * 1e3,\n                  evoked_squid.copy().pick([squid_ch]).data[0] * scale,\n                  '#5e3c99')\n    axes[i].set_title(f'Location #{i + 1}')\n    axes[i].legend(ln1 + ln2, ['OPM', 'SQUID'], loc=1)\n    ax.legend()\n\nfig.text(0.97, 0.45, 'SQUID data (fT)', va='center',\n         rotation='vertical', fontsize=12)\nfig.text(0.02, 0.45, 'OPM data (fT)', va='center',\n         rotation='vertical', fontsize=12)\naxes[1].set_xlabel('Time (ms)')\nplt.tight_layout()\nplt.show()"
      ]
    }
  ],
  "metadata": {
    "kernelspec": {
      "display_name": "Python 3",
      "language": "python",
      "name": "python3"
    },
    "language_info": {
      "codemirror_mode": {
        "name": "ipython",
        "version": 3
      },
      "file_extension": ".py",
      "mimetype": "text/x-python",
      "name": "python",
      "nbconvert_exporter": "python",
      "pygments_lexer": "ipython3",
      "version": "3.9.18"
    }
  },
  "nbformat": 4,
  "nbformat_minor": 0
}