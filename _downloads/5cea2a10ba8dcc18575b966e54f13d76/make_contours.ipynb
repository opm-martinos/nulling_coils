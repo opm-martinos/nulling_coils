{
  "cells": [
    {
      "cell_type": "markdown",
      "metadata": {},
      "source": [
        "\n# Design biplanar coils\n\nExample demonstrating how to create biplanar coils for production.\n"
      ]
    },
    {
      "cell_type": "code",
      "execution_count": null,
      "metadata": {
        "collapsed": false
      },
      "outputs": [],
      "source": [
        "# Authors: Mainak Jas <mjas@mgh.harvard.edu>\n#          Padma Sundaram <padma@nmr.mgh.harvard.edu>\n\n# First, we will import the necessary libraries\nfrom pathlib import Path\n\nimport numpy as np\nimport matplotlib.pyplot as plt\n\nfrom bfieldtools.utils import load_example_mesh\nimport pyvista as pv\n\nimport opm_coils\nfrom opm_coils import BiplanarCoil, get_sphere_points, get_target_field\n\nN_suh = 50\nN_contours = 30\n\ncenter = np.array([0, 0, 0])\ntarget_type = 'dc_y'  # 'gradient_x' | 'gradient_y' | 'dc_x' | 'dc_y' | 'dc_grad_x' etc."
      ]
    },
    {
      "cell_type": "markdown",
      "metadata": {},
      "source": [
        "Next we define the output directory containing the kicad files for our\nPCB design. \n\n"
      ]
    },
    {
      "cell_type": "code",
      "execution_count": null,
      "metadata": {
        "collapsed": false
      },
      "outputs": [],
      "source": [
        "pcb_dir = Path(opm_coils.__path__[0]).parents[0]\n\noutput_dir = {'dc_x': 'Bx_coil',\n              'dc_y': 'By_coil',\n              'dc_z': 'Bz_coil',\n              'gradient_x': 'Gx_coil',\n              'gradient_y': 'Gy_coil',\n              'gradient_z': 'Gz_coil'}\nheader_type = {'dc_x': 'vert',\n               'dc_y': 'horz',\n               'dc_z': 'vert',\n               'gradient_x': 'vert',\n               'gradient_y': 'horz',\n               'gradient_z': 'vert'}\nbounds_wholeloop = {'dc_x': False,\n                    'dc_y': True,\n                    'dc_z': False, \n                    'gradient_x': False,\n                    'gradient_y': True,\n                    'gradient_z': False}\n\npcb_fname = pcb_dir / 'development' / output_dir[target_type] / 'first' / 'coil_template_first.kicad_pcb'\nkicad_header = pcb_dir / 'kicad' / 'headers' / f'kicad_header_{header_type[target_type]}_first_half.txt'"
      ]
    },
    {
      "cell_type": "markdown",
      "metadata": {},
      "source": [
        "Next we will define the parameters of our coils\n\n"
      ]
    },
    {
      "cell_type": "code",
      "execution_count": null,
      "metadata": {
        "collapsed": false
      },
      "outputs": [],
      "source": [
        "trace_width = 5. # mm\ncu_oz = 2. # oz per ft^2"
      ]
    },
    {
      "cell_type": "markdown",
      "metadata": {},
      "source": [
        "A 10 m x 10 m biplanar coil mesh is loaded from bfieldtools.\nWe will scale the mesh so as to achieve the dimensions of\n1.4 m x 1.4 m that we will use in our work.\n\n"
      ]
    },
    {
      "cell_type": "code",
      "execution_count": null,
      "metadata": {
        "collapsed": false
      },
      "outputs": [],
      "source": [
        "scaling_factor = 0.14\nstandoff = scaling_factor * 10\n\nplanemesh = load_example_mesh(\"10x10_plane_hires\")\nplanemesh.apply_scale(scaling_factor)"
      ]
    },
    {
      "cell_type": "markdown",
      "metadata": {},
      "source": [
        "The BiplanarCoil class is instantiated\n\n"
      ]
    },
    {
      "cell_type": "code",
      "execution_count": null,
      "metadata": {
        "collapsed": false
      },
      "outputs": [],
      "source": [
        "coil = BiplanarCoil(planemesh, center, N_suh=N_suh, standoff=standoff)"
      ]
    },
    {
      "cell_type": "markdown",
      "metadata": {},
      "source": [
        "Then the target points and the fields are used to fit the coil design\n\n"
      ]
    },
    {
      "cell_type": "code",
      "execution_count": null,
      "metadata": {
        "collapsed": false
      },
      "outputs": [],
      "source": [
        "target_points, points_z = get_sphere_points(center, n=8, sidelength=0.5)\ntarget_field = get_target_field(target_type, target_points)\n\ncoil.fit(target_points, target_field)"
      ]
    },
    {
      "cell_type": "markdown",
      "metadata": {},
      "source": [
        "We discretize the optimized stream function\n\n"
      ]
    },
    {
      "cell_type": "code",
      "execution_count": null,
      "metadata": {
        "collapsed": false
      },
      "outputs": [],
      "source": [
        "coil.discretize(N_contours=N_contours, trace_width=trace_width, cu_oz=cu_oz)"
      ]
    },
    {
      "cell_type": "markdown",
      "metadata": {},
      "source": [
        "We plot both the optimized continuous stream function and it's discretized\ncounterpart. The camera position is 'xy' for optimal viewing\n\n"
      ]
    },
    {
      "cell_type": "code",
      "execution_count": null,
      "metadata": {
        "collapsed": false
      },
      "outputs": [],
      "source": [
        "plotter = pv.Plotter(window_size=(1500, 1700))\ncoil.coil_.s.plot(figure=plotter)\nplotter.camera_position = 'xy'\n\ncoil.loops_ = [loop for loop in coil.loops_ if loop[0, 2] > 0]  # just one coil\nplotter = coil.plot_field(target_points)\nplotter.camera_position = 'xy'"
      ]
    },
    {
      "cell_type": "markdown",
      "metadata": {},
      "source": [
        "We can evaluate the coil for metrics such as efficiency\n\n"
      ]
    },
    {
      "cell_type": "code",
      "execution_count": null,
      "metadata": {
        "collapsed": false
      },
      "outputs": [],
      "source": [
        "metrics = coil.evaluate(target_type, target_points, target_field,\n                        points_z, 'all')\nprint(metrics)"
      ]
    },
    {
      "cell_type": "markdown",
      "metadata": {},
      "source": [
        "Next, we make cuts using the interactive interface\n\n"
      ]
    },
    {
      "cell_type": "markdown",
      "metadata": {},
      "source": [
        "coil.make_cuts()\n\n"
      ]
    },
    {
      "cell_type": "code",
      "execution_count": null,
      "metadata": {
        "collapsed": false
      },
      "outputs": [],
      "source": [
        "coil.save(pcb_fname=pcb_fname, kicad_header_fname=kicad_header,\n          bounds=(0,750,0,1500), origin= (0, 750),\n          bounds_wholeloop=bounds_wholeloop[target_type])"
      ]
    }
  ],
  "metadata": {
    "kernelspec": {
      "display_name": "Python 3",
      "language": "python",
      "name": "python3"
    },
    "language_info": {
      "codemirror_mode": {
        "name": "ipython",
        "version": 3
      },
      "file_extension": ".py",
      "mimetype": "text/x-python",
      "name": "python",
      "nbconvert_exporter": "python",
      "pygments_lexer": "ipython3",
      "version": "3.9.18"
    }
  },
  "nbformat": 4,
  "nbformat_minor": 0
}